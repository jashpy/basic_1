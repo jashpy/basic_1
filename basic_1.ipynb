{
 "cells": [
  {
   "cell_type": "markdown",
   "id": "d2651c45-d4cb-4552-a7eb-af47c9030284",
   "metadata": {},
   "source": [
    "problem-1"
   ]
  },
  {
   "cell_type": "code",
   "execution_count": 2,
   "id": "71ff4828-88a6-438c-a44f-d7cfce2f09eb",
   "metadata": {},
   "outputs": [],
   "source": [
    "#the variable containing various types of datatypes can also be a list"
   ]
  },
  {
   "cell_type": "code",
   "execution_count": 4,
   "id": "b7f7095b-a809-46e7-a583-ccefd90836bc",
   "metadata": {},
   "outputs": [
    {
     "name": "stdout",
     "output_type": "stream",
     "text": [
      "0 23\n",
      "1 34.5\n",
      "2 data\n",
      "3 (1, 3, 6)\n",
      "4 [12, 45, 67]\n"
     ]
    }
   ],
   "source": [
    "l=[23,34.5,\"data\",(1,3,6),[12,45,67]]\n",
    "for index,items in enumerate(l):\n",
    "    print(index,items)\n",
    "#cross verified also"
   ]
  },
  {
   "cell_type": "markdown",
   "id": "fa9d9c9e-b9d1-47c5-8ab1-16c68ec0d0a1",
   "metadata": {},
   "source": [
    "problem-2"
   ]
  },
  {
   "cell_type": "code",
   "execution_count": 6,
   "id": "25754472-a9b0-4615-8811-cbe0ccb09e52",
   "metadata": {
    "collapsed": true,
    "jupyter": {
     "outputs_hidden": true
    },
    "tags": []
   },
   "outputs": [
    {
     "ename": "SyntaxError",
     "evalue": "invalid character '‘' (U+2018) (943552136.py, line 7)",
     "output_type": "error",
     "traceback": [
      "\u001b[0;36m  Cell \u001b[0;32mIn[6], line 7\u001b[0;36m\u001b[0m\n\u001b[0;31m    var1 = ‘ ‘\u001b[0m\n\u001b[0m           ^\u001b[0m\n\u001b[0;31mSyntaxError\u001b[0m\u001b[0;31m:\u001b[0m invalid character '‘' (U+2018)\n"
     ]
    }
   ],
   "source": [
    "'''(i) var1 = ‘ ‘                                 -------------> string\n",
    "(ii) var2 = ‘[ DS , ML , Python]’                 ------------->string\n",
    "(iii) var3 = [ ‘DS’ , ’ML’ , ‘Python’ ]           -------------->list\n",
    "(iv) var4 = 1                                --------------->int'''\n",
    "##actually the string character should be written like this  \"data\" or 'data' this sign is giving invalid character"
   ]
  },
  {
   "cell_type": "markdown",
   "id": "908747c5-0cdb-4814-94f2-56c927cca0eb",
   "metadata": {},
   "source": [
    "problem-3"
   ]
  },
  {
   "cell_type": "code",
   "execution_count": 2,
   "id": "f1cbfa0e-1dc1-411b-bea9-14577e103d35",
   "metadata": {},
   "outputs": [
    {
     "name": "stdout",
     "output_type": "stream",
     "text": [
      "6.0\n",
      "0\n",
      "6\n",
      "144\n"
     ]
    }
   ],
   "source": [
    "'''Q3. Explain the use of the following operators using an example:\n",
    "(i) /           ------------->>division operator\n",
    "(ii) %          ------------->modulo operator(gives remainder)\n",
    "(iii) //        -------------->floor division\n",
    "(iv) **           -------------->exponent operator'''\n",
    "\n",
    "a=12\n",
    "b=2\n",
    "print(a/b)\n",
    "print(a%b)\n",
    "print(a//b)\n",
    "print(a**b)\n"
   ]
  },
  {
   "cell_type": "markdown",
   "id": "a4626106-eb0b-412f-8b91-2fa489b8f2a2",
   "metadata": {},
   "source": [
    "problem-4"
   ]
  },
  {
   "cell_type": "code",
   "execution_count": 10,
   "id": "35fc852b-11d3-458a-8f59-1d6f7de60caf",
   "metadata": {},
   "outputs": [
    {
     "name": "stdout",
     "output_type": "stream",
     "text": [
      "10\n",
      "23 <class 'int'>\n",
      "34 <class 'int'>\n",
      "34.5 <class 'float'>\n",
      "78 <class 'int'>\n",
      "97 <class 'int'>\n",
      "data <class 'str'>\n",
      "(1, 2, 3, 4) <class 'tuple'>\n",
      "True <class 'bool'>\n",
      "False <class 'bool'>\n",
      "interest <class 'str'>\n"
     ]
    }
   ],
   "source": [
    "'''Q4. Create a list of length 10 of your choice containing multiple types of data. Using for loop print the\n",
    "element and its data type.'''\n",
    "\n",
    "l=[23,34,34.5,78,97,\"data\",(1,2,3,4),True,False,'interest']\n",
    "print(len(l))\n",
    "for i in l:\n",
    "    print(i,type(i))"
   ]
  },
  {
   "cell_type": "markdown",
   "id": "3f038aa1-4e68-480d-b42c-f6893432edcf",
   "metadata": {},
   "source": [
    "problem-5"
   ]
  },
  {
   "cell_type": "code",
   "execution_count": 7,
   "id": "2a4da56b-9667-4cd9-bb6d-b6311d3a5c76",
   "metadata": {},
   "outputs": [
    {
     "name": "stdin",
     "output_type": "stream",
     "text": [
      "enter any number to continue and press 'q' to quit- 12\n",
      "Enter the value of A: 24\n",
      "Enter the value of B: 3\n"
     ]
    },
    {
     "name": "stdout",
     "output_type": "stream",
     "text": [
      "A is purely divisible by B\n",
      "the no of times it is divisible is: 8\n"
     ]
    },
    {
     "name": "stdin",
     "output_type": "stream",
     "text": [
      "enter any number to continue and press 'q' to quit- q\n"
     ]
    },
    {
     "name": "stdout",
     "output_type": "stream",
     "text": [
      "you have quit the game\n"
     ]
    }
   ],
   "source": [
    "while(True):\n",
    "    a=input(\"enter any number to continue and press 'q' to quit-\")\n",
    "    if(a==\"q\"):\n",
    "        print(\"you have quit the game\")\n",
    "        break\n",
    "    else:\n",
    "        num1=int(input(\"Enter the value of A:\"))\n",
    "        num2=int(input(\"Enter the value of B:\"))\n",
    "        if(num1%num2==0):\n",
    "            print(\"A is purely divisible by B\")\n",
    "            print(\"the no of times it is divisible is:\",num1//num2)\n",
    "            "
   ]
  },
  {
   "cell_type": "markdown",
   "id": "73f6982f-0e73-4706-b4d7-23629f5fe6a4",
   "metadata": {},
   "source": [
    "problem-6"
   ]
  },
  {
   "cell_type": "code",
   "execution_count": 4,
   "id": "9176c617-a808-472b-b90c-6081ecfc46ff",
   "metadata": {},
   "outputs": [
    {
     "name": "stdout",
     "output_type": "stream",
     "text": [
      "25\n",
      "the no 23 is not divisible by 3\n",
      "the no 45 is divisible by 3\n",
      "the no 56 is not divisible by 3\n",
      "the no 78 is divisible by 3\n",
      "the no 33 is divisible by 3\n",
      "the no 45 is divisible by 3\n",
      "the no 98 is not divisible by 3\n",
      "the no 17 is not divisible by 3\n",
      "the no 21 is divisible by 3\n",
      "the no 2 is not divisible by 3\n",
      "the no 41 is not divisible by 3\n",
      "the no 40 is not divisible by 3\n",
      "the no 12 is divisible by 3\n",
      "the no 55 is not divisible by 3\n",
      "the no 51 is divisible by 3\n",
      "the no 13 is not divisible by 3\n",
      "the no 19 is not divisible by 3\n",
      "the no 87 is divisible by 3\n",
      "the no 89 is not divisible by 3\n",
      "the no 8 is not divisible by 3\n",
      "the no 43 is not divisible by 3\n",
      "the no 27 is divisible by 3\n",
      "the no 30 is divisible by 3\n",
      "the no 66 is divisible by 3\n",
      "the no 77 is not divisible by 3\n"
     ]
    }
   ],
   "source": [
    "'''Q6. Create a list containing 25 int type data. Using for loop and if-else condition print if the element is\n",
    "divisible by 3 or not.'''\n",
    "\n",
    "l=[23,45,56,78,33,45,98,17,21,2,41,40,12,55,51,13,19,87,89,8,43,27,30,66,77]\n",
    "print(len(l))\n",
    "for i in l:\n",
    "    if(i%3==0):\n",
    "        print(f\"the no {i} is divisible by 3\")\n",
    "    else:\n",
    "        print(f\"the no {i} is not divisible by 3\")\n",
    "        "
   ]
  },
  {
   "cell_type": "markdown",
   "id": "f71d0a10-3310-40a8-8bb5-4298c2439ed9",
   "metadata": {},
   "source": [
    "problem-7"
   ]
  },
  {
   "cell_type": "code",
   "execution_count": 5,
   "id": "b544e965-25a2-454a-8e56-152fadcac9c8",
   "metadata": {},
   "outputs": [
    {
     "name": "stdout",
     "output_type": "stream",
     "text": [
      "1\n",
      "23\n",
      "1\n"
     ]
    },
    {
     "ename": "TypeError",
     "evalue": "'tuple' object does not support item assignment",
     "output_type": "error",
     "traceback": [
      "\u001b[0;31m---------------------------------------------------------------------------\u001b[0m",
      "\u001b[0;31mTypeError\u001b[0m                                 Traceback (most recent call last)",
      "Cell \u001b[0;32mIn[5], line 17\u001b[0m\n\u001b[1;32m     15\u001b[0m a\u001b[38;5;241m=\u001b[39m(\u001b[38;5;241m1\u001b[39m,\u001b[38;5;241m2\u001b[39m,\u001b[38;5;241m4\u001b[39m,\u001b[38;5;241m5\u001b[39m)\n\u001b[1;32m     16\u001b[0m \u001b[38;5;28mprint\u001b[39m(a[\u001b[38;5;241m0\u001b[39m])\n\u001b[0;32m---> 17\u001b[0m \u001b[43ma\u001b[49m\u001b[43m[\u001b[49m\u001b[38;5;241;43m0\u001b[39;49m\u001b[43m]\u001b[49m\u001b[38;5;241m=\u001b[39m\u001b[38;5;241m23\u001b[39m\n\u001b[1;32m     18\u001b[0m \u001b[38;5;28mprint\u001b[39m(a[\u001b[38;5;241m0\u001b[39m])\n",
      "\u001b[0;31mTypeError\u001b[0m: 'tuple' object does not support item assignment"
     ]
    }
   ],
   "source": [
    "'''What do you understand about mutable and immutable data types? Give examples for both showing\n",
    "this property.\n",
    "ANS-basically mutable means objects whose characters  can be accessed and can be changed also and immutable means \n",
    "the objects whose characters can be accessed but we can't change them\n",
    "\n",
    "examples of mutable objects-dictionary,list\n",
    "examples of immutable objects-set,tuple\n",
    "\n",
    "example with code is shown below'''\n",
    "\n",
    "a=[1,2,4,5]\n",
    "print(a[0])\n",
    "a[0]=23\n",
    "print(a[0])\n",
    "a=(1,2,4,5)\n",
    "print(a[0])\n",
    "a[0]=23\n",
    "print(a[0])#--->it will throws an error that 'tuple' object does not support item assignment"
   ]
  },
  {
   "cell_type": "code",
   "execution_count": null,
   "id": "047bcc20-b9ad-4cf4-97c8-e354c33c1783",
   "metadata": {},
   "outputs": [],
   "source": []
  }
 ],
 "metadata": {
  "kernelspec": {
   "display_name": "Python 3 (ipykernel)",
   "language": "python",
   "name": "python3"
  },
  "language_info": {
   "codemirror_mode": {
    "name": "ipython",
    "version": 3
   },
   "file_extension": ".py",
   "mimetype": "text/x-python",
   "name": "python",
   "nbconvert_exporter": "python",
   "pygments_lexer": "ipython3",
   "version": "3.10.8"
  }
 },
 "nbformat": 4,
 "nbformat_minor": 5
}
